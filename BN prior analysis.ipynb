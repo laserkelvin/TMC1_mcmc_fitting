{
 "cells": [
  {
   "cell_type": "code",
   "execution_count": 1,
   "metadata": {},
   "outputs": [],
   "source": [
    "%matplotlib inline\n",
    "import numpy as np\n",
    "import pandas as pd\n",
    "from scipy.stats import mode\n",
    "from matplotlib import pyplot as plt\n",
    "import seaborn as sns\n",
    "from palettable.cartocolors.sequential import SunsetDark_6_r"
   ]
  },
  {
   "cell_type": "markdown",
   "metadata": {},
   "source": [
    "## Data Validation"
   ]
  },
  {
   "cell_type": "code",
   "execution_count": 2,
   "metadata": {},
   "outputs": [],
   "source": [
    "# change font sizes and whatnot\n",
    "plt.rc(\"text\", usetex=False)\n",
    "plt.rc(\"xtick\", labelsize=16)\n",
    "plt.rc(\"ytick\", labelsize=16)\n",
    "plt.rc(\"axes\", labelsize=16)"
   ]
  },
  {
   "cell_type": "code",
   "execution_count": 3,
   "metadata": {},
   "outputs": [],
   "source": [
    "chains = np.load(\"prior/benzonitrile/chain.npy\")\n",
    "# hurr = np.load(\"cnn/2-cyanonapthalene/third.npy\")\n",
    "\n",
    "# chains = np.concatenate([hurr, chains], axis=0)\n",
    "\n",
    "chains.shape\n",
    "\n",
    "# Take the last 1000 samples of each walker, and then flatten\n",
    "# along the walker dimension; i.e. get samples for each parameter\n",
    "chains = chains[-1000:,:,:].reshape(-1, 14)\n",
    "\n",
    "# calculate the percentiles used throughout the paper\n",
    "summary_stats = np.percentile(chains, [16, 50, 84], 0)\n",
    "\n",
    "# 16th, 50th, and 84th percentile\n",
    "summary_stats.shape\n",
    "\n",
    "_ = np.random.seed(42)"
   ]
  },
  {
   "cell_type": "code",
   "execution_count": 4,
   "metadata": {},
   "outputs": [],
   "source": [
    "# plt.plot(chains[-1000:,:,9])"
   ]
  },
  {
   "cell_type": "code",
   "execution_count": 5,
   "metadata": {},
   "outputs": [
    {
     "data": {
      "text/plain": [
       "array([[9.17343635e+01, 7.16103150e+01, 2.32701381e+02, 2.47599504e+02,\n",
       "        2.06749407e+11, 7.03897522e+11, 3.65949224e+11, 5.54173563e+11,\n",
       "        6.03300620e+00, 5.57339158e+00, 5.76607442e+00, 5.89142269e+00,\n",
       "        6.01660298e+00, 1.25753442e-01],\n",
       "       [9.17797151e+01, 7.16602667e+01, 2.32743372e+02, 2.47641895e+02,\n",
       "        2.24774982e+11, 7.25940228e+11, 3.87305019e+11, 5.72754822e+11,\n",
       "        6.03343813e+00, 5.57561103e+00, 5.76776109e+00, 5.89348117e+00,\n",
       "        6.01828099e+00, 1.26034786e-01],\n",
       "       [9.18240687e+01, 7.17064749e+01, 2.32785068e+02, 2.47682774e+02,\n",
       "        2.42037608e+11, 7.48670435e+11, 4.07802534e+11, 5.91309484e+11,\n",
       "        6.03387016e+00, 5.57776428e+00, 5.76946432e+00, 5.89555359e+00,\n",
       "        6.02001992e+00, 1.26307246e-01]])"
      ]
     },
     "execution_count": 5,
     "metadata": {},
     "output_type": "execute_result"
    }
   ],
   "source": [
    "summary_stats"
   ]
  },
  {
   "cell_type": "code",
   "execution_count": 6,
   "metadata": {},
   "outputs": [],
   "source": [
    "# column names for each parameter\n",
    "param_names = [\n",
    "    r'Source Size #1 [\"]',\n",
    "    r'Source Size #2 [\"]',\n",
    "    r'Source Size #3 [\"]',\n",
    "    r'Source Size #4 [\"]',\n",
    "    r'N$_\\mathrm{col}$ #1 [$10^{11}$ cm$^{-2}$]',\n",
    "    r'N$_\\mathrm{col}$ #2 [$10^{11}$ cm$^{-2}$]',\n",
    "    r'N$_\\mathrm{col}$ #3 [$10^{11}$ cm$^{-2}$]',\n",
    "    r'N$_\\mathrm{col}$ #4 [$10^{11}$ cm$^{-2}$]',\n",
    "    r'T$_\\mathrm{ex}$ [K]',\n",
    "    r'V$_\\mathrm{LSRK}$ #1 [km s$^{-1}$]',\n",
    "    r'V$_\\mathrm{LSRK}$ #2 [km s$^{-1}$]',\n",
    "    r'V$_\\mathrm{LSRK}$ #3 [km s$^{-1}$]',\n",
    "    r'V$_\\mathrm{LSRK}$ #4 [km s$^{-1}$]',\n",
    "    r'dV [km s$^{-1}$]'\n",
    "]"
   ]
  },
  {
   "cell_type": "code",
   "execution_count": 7,
   "metadata": {},
   "outputs": [],
   "source": [
    "df = pd.DataFrame(\n",
    "    chains,\n",
    "    columns=param_names\n",
    ")\n",
    "\n",
    "# hacker statistics (not really)\n",
    "# we don't need to use the full 20k samples to make plots, just take 1000 samples\n",
    "# from the \"posterior\"\n",
    "samples = df.sample(1000, replace=True)\n",
    "\n",
    "# For the column densities, bring the numbers down to help make the figure formatting\n",
    "# nicer looking\n",
    "for i in range(4, 8):\n",
    "    samples[param_names[i]] /= 1e11"
   ]
  },
  {
   "cell_type": "code",
   "execution_count": 8,
   "metadata": {},
   "outputs": [],
   "source": [
    "top_color, bottom_color = SunsetDark_6_r.hex_colors[0], SunsetDark_6_r.hex_colors[-1]"
   ]
  },
  {
   "cell_type": "code",
   "execution_count": null,
   "metadata": {},
   "outputs": [],
   "source": [
    "grid = sns.PairGrid(samples, corner=True, diag_sharey=False)\n",
    "# grid.map_diag(sns.distplot, kde=False, color=top_color, norm_hist=True)# cumulative=False)\n",
    "grid.map_diag(plt.hist, bins=15, color=top_color, linewidth=1.5, edgecolor=\"k\", alpha=0.4, zorder=10)\n",
    "grid.map_lower(sns.kdeplot, shade=True, shade_lowest=True, cmap=SunsetDark_6_r.get_mpl_colormap(), n_levels=6)\n",
    "# loop over the diagonal of the corner plot, which are CDFs. We want to annotate\n",
    "# the percentiles in this plot\n",
    "for index, ax in enumerate(grid.diag_axes):\n",
    "    name = param_names[index]\n",
    "    param_stats = np.copy(summary_stats[:,index])\n",
    "    if index in [4, 5, 6, 7]:\n",
    "        param_stats /= 1e11\n",
    "    # draw the region comprising 16th to 84th percentiles\n",
    "    ax.axvspan(\n",
    "        min(param_stats),\n",
    "        max(param_stats),\n",
    "        lw=1.5,\n",
    "        color=bottom_color,\n",
    "        facecolor=\"k\",\n",
    "        alpha=0.7,\n",
    "        zorder=2\n",
    "    )\n",
    "    ranges = param_stats - param_stats.mean()\n",
    "    ax.axvline(param_stats[1], lw=1.5, ls=\"--\", color=top_color)\n",
    "    # format the percentile stats in the title. This is somewhat of a pain because\n",
    "    # we are combining LaTeX strings with Python f-strings\n",
    "    lower_text = r\"_\\mathrm{\" + f\"{ranges[0]:.3f}\" + r\"}\"\n",
    "    upper_text = r\"^\\mathrm{\" + f\"+{ranges[-1]:.3f}\" + r\"}$\"\n",
    "    middle_text = f\"{param_stats[1]:.3f}\"\n",
    "    ax.set_title(\n",
    "        f\"{name}\\n\" + r\"$\" + middle_text + lower_text + upper_text, fontsize=16\n",
    "    )\n",
    "# for i in range(1, 3):\n",
    "#     grid.axes[i][0].set_ylim([0., 400.])\n",
    "#     grid.axes[-1][i].set_xlim([0., 400.])\n",
    "# for i in range(4, 8):\n",
    "#     grid.axes[-1][i].set_xlim([1., 7.])\n",
    "#     grid.axes[i][0].set_ylim([1., 7.])\n",
    "\n",
    "grid.fig.tight_layout()"
   ]
  },
  {
   "cell_type": "code",
   "execution_count": 10,
   "metadata": {},
   "outputs": [],
   "source": [
    "grid.fig.savefig(\"bn_prior_corner.pdf\", dpi=300, transparent=True)"
   ]
  },
  {
   "cell_type": "code",
   "execution_count": null,
   "metadata": {},
   "outputs": [],
   "source": []
  }
 ],
 "metadata": {
  "kernelspec": {
   "display_name": "AstroMCMC",
   "language": "python",
   "name": "astromcmc"
  },
  "language_info": {
   "codemirror_mode": {
    "name": "ipython",
    "version": 3
   },
   "file_extension": ".py",
   "mimetype": "text/x-python",
   "name": "python",
   "nbconvert_exporter": "python",
   "pygments_lexer": "ipython3",
   "version": "3.7.7"
  },
  "widgets": {
   "application/vnd.jupyter.widget-state+json": {
    "state": {},
    "version_major": 2,
    "version_minor": 0
   }
  }
 },
 "nbformat": 4,
 "nbformat_minor": 4
}
